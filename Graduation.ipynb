{
  "nbformat": 4,
  "nbformat_minor": 0,
  "metadata": {
    "colab": {
      "provenance": [],
      "authorship_tag": "ABX9TyOWTuf3CxCVxchFcOx+Nctg"
    },
    "kernelspec": {
      "name": "python3",
      "display_name": "Python 3"
    },
    "language_info": {
      "name": "python"
    }
  },
  "cells": [
    {
      "cell_type": "code",
      "execution_count": null,
      "metadata": {
        "colab": {
          "base_uri": "https://localhost:8080/"
        },
        "id": "MEXg1Rl-2EBB",
        "outputId": "44591332-503c-4c3f-a133-f6b04fbe0ccf"
      },
      "outputs": [
        {
          "output_type": "stream",
          "name": "stdout",
          "text": [
            "Mounted at /content/drive\n"
          ]
        }
      ],
      "source": [
        "from google.colab import drive\n",
        "drive.mount('/content/drive')"
      ]
    },
    {
      "cell_type": "code",
      "source": [
        "import pandas as pd\n",
        "import numpy as np\n",
        "import matplotlib.pyplot as plt\n",
        "%matplotlib inline"
      ],
      "metadata": {
        "id": "3XqAhCUb35eq"
      },
      "execution_count": null,
      "outputs": []
    },
    {
      "cell_type": "code",
      "source": [
        "data = pd.read_excel('/content/drive/MyDrive/Data/05 Input Data/Year of Graduation Data/Final Lead Data.xlsx')"
      ],
      "metadata": {
        "id": "K8TaSFCF4zdV"
      },
      "execution_count": null,
      "outputs": []
    },
    {
      "cell_type": "code",
      "source": [
        "data.head()"
      ],
      "metadata": {
        "id": "HiVpQiKN51En",
        "colab": {
          "base_uri": "https://localhost:8080/",
          "height": 539
        },
        "outputId": "6379a1db-3216-40d0-9b12-17793de1e797"
      },
      "execution_count": null,
      "outputs": [
        {
          "output_type": "execute_result",
          "data": {
            "text/plain": [
              "      ID First Name              Email Gender City                 Created  \\\n",
              "0  68112     ANIKET     aniket@xyz.com    NaN  NaN  04/27/2022 01:41:38 pm   \n",
              "1  68110  Dhanshree  dhanshree@xyz.com    NaN  NaN  04/22/2022 04:08:38 pm   \n",
              "2  68108     Dhiraj     dhiraj@xyz.com    NaN  NaN  04/16/2022 10:31:59 pm   \n",
              "3  68106      Pooja      pooja@xyz.com    NaN  NaN  04/13/2022 10:05:15 pm   \n",
              "4  68090     Aayush     aayush@xyz.com    NaN  NaN  03/26/2022 07:02:48 pm   \n",
              "\n",
              "  Position         New College Name Colleges  Academic Year  \\\n",
              "0      NaN                      NaN      NaN            NaN   \n",
              "1      NaN  Lords Universal College      NaN            NaN   \n",
              "2      NaN                      NaN      NaN            NaN   \n",
              "3      NaN                      NaN      NaN            NaN   \n",
              "4      NaN        B.k Birla college      NaN            NaN   \n",
              "\n",
              "  Branch/ Specialisation Other Branch What is your current academic year?  \\\n",
              "0                    NaN          NaN                                 NaN   \n",
              "1                    NaN          NaN                                 NaN   \n",
              "2                    NaN          NaN                                 NaN   \n",
              "3                    NaN          NaN                                 NaN   \n",
              "4                    NaN          NaN                                 NaN   \n",
              "\n",
              "  Company Name/ College Name  \\\n",
              "0                        NaN   \n",
              "1                        NaN   \n",
              "2                        NaN   \n",
              "3                        NaN   \n",
              "4                        NaN   \n",
              "\n",
              "  Would you like to know more about us and our programs?  \\\n",
              "0                                                yes       \n",
              "1                                                yes       \n",
              "2                                                yes       \n",
              "3                                                yes       \n",
              "4                                                yes       \n",
              "\n",
              "  Are you interested in knowing more about our events?  \\\n",
              "0                                                yes     \n",
              "1                                                yes     \n",
              "2                                                yes     \n",
              "3                                                yes     \n",
              "4                                                yes     \n",
              "\n",
              "  Have you recommended Cloud Counselage to anyone?  \\\n",
              "0                                               no   \n",
              "1                                               no   \n",
              "2                                               no   \n",
              "3                                               no   \n",
              "4                                               no   \n",
              "\n",
              "  How did you come to know about this event?  \n",
              "0                                        NaN  \n",
              "1                                        NaN  \n",
              "2                                        NaN  \n",
              "3                                        NaN  \n",
              "4                                        NaN  "
            ],
            "text/html": [
              "\n",
              "  <div id=\"df-1433c7a8-a0f7-49a4-a4af-6a2f88c352ae\" class=\"colab-df-container\">\n",
              "    <div>\n",
              "<style scoped>\n",
              "    .dataframe tbody tr th:only-of-type {\n",
              "        vertical-align: middle;\n",
              "    }\n",
              "\n",
              "    .dataframe tbody tr th {\n",
              "        vertical-align: top;\n",
              "    }\n",
              "\n",
              "    .dataframe thead th {\n",
              "        text-align: right;\n",
              "    }\n",
              "</style>\n",
              "<table border=\"1\" class=\"dataframe\">\n",
              "  <thead>\n",
              "    <tr style=\"text-align: right;\">\n",
              "      <th></th>\n",
              "      <th>ID</th>\n",
              "      <th>First Name</th>\n",
              "      <th>Email</th>\n",
              "      <th>Gender</th>\n",
              "      <th>City</th>\n",
              "      <th>Created</th>\n",
              "      <th>Position</th>\n",
              "      <th>New College Name</th>\n",
              "      <th>Colleges</th>\n",
              "      <th>Academic Year</th>\n",
              "      <th>Branch/ Specialisation</th>\n",
              "      <th>Other Branch</th>\n",
              "      <th>What is your current academic year?</th>\n",
              "      <th>Company Name/ College Name</th>\n",
              "      <th>Would you like to know more about us and our programs?</th>\n",
              "      <th>Are you interested in knowing more about our events?</th>\n",
              "      <th>Have you recommended Cloud Counselage to anyone?</th>\n",
              "      <th>How did you come to know about this event?</th>\n",
              "    </tr>\n",
              "  </thead>\n",
              "  <tbody>\n",
              "    <tr>\n",
              "      <th>0</th>\n",
              "      <td>68112</td>\n",
              "      <td>ANIKET</td>\n",
              "      <td>aniket@xyz.com</td>\n",
              "      <td>NaN</td>\n",
              "      <td>NaN</td>\n",
              "      <td>04/27/2022 01:41:38 pm</td>\n",
              "      <td>NaN</td>\n",
              "      <td>NaN</td>\n",
              "      <td>NaN</td>\n",
              "      <td>NaN</td>\n",
              "      <td>NaN</td>\n",
              "      <td>NaN</td>\n",
              "      <td>NaN</td>\n",
              "      <td>NaN</td>\n",
              "      <td>yes</td>\n",
              "      <td>yes</td>\n",
              "      <td>no</td>\n",
              "      <td>NaN</td>\n",
              "    </tr>\n",
              "    <tr>\n",
              "      <th>1</th>\n",
              "      <td>68110</td>\n",
              "      <td>Dhanshree</td>\n",
              "      <td>dhanshree@xyz.com</td>\n",
              "      <td>NaN</td>\n",
              "      <td>NaN</td>\n",
              "      <td>04/22/2022 04:08:38 pm</td>\n",
              "      <td>NaN</td>\n",
              "      <td>Lords Universal College</td>\n",
              "      <td>NaN</td>\n",
              "      <td>NaN</td>\n",
              "      <td>NaN</td>\n",
              "      <td>NaN</td>\n",
              "      <td>NaN</td>\n",
              "      <td>NaN</td>\n",
              "      <td>yes</td>\n",
              "      <td>yes</td>\n",
              "      <td>no</td>\n",
              "      <td>NaN</td>\n",
              "    </tr>\n",
              "    <tr>\n",
              "      <th>2</th>\n",
              "      <td>68108</td>\n",
              "      <td>Dhiraj</td>\n",
              "      <td>dhiraj@xyz.com</td>\n",
              "      <td>NaN</td>\n",
              "      <td>NaN</td>\n",
              "      <td>04/16/2022 10:31:59 pm</td>\n",
              "      <td>NaN</td>\n",
              "      <td>NaN</td>\n",
              "      <td>NaN</td>\n",
              "      <td>NaN</td>\n",
              "      <td>NaN</td>\n",
              "      <td>NaN</td>\n",
              "      <td>NaN</td>\n",
              "      <td>NaN</td>\n",
              "      <td>yes</td>\n",
              "      <td>yes</td>\n",
              "      <td>no</td>\n",
              "      <td>NaN</td>\n",
              "    </tr>\n",
              "    <tr>\n",
              "      <th>3</th>\n",
              "      <td>68106</td>\n",
              "      <td>Pooja</td>\n",
              "      <td>pooja@xyz.com</td>\n",
              "      <td>NaN</td>\n",
              "      <td>NaN</td>\n",
              "      <td>04/13/2022 10:05:15 pm</td>\n",
              "      <td>NaN</td>\n",
              "      <td>NaN</td>\n",
              "      <td>NaN</td>\n",
              "      <td>NaN</td>\n",
              "      <td>NaN</td>\n",
              "      <td>NaN</td>\n",
              "      <td>NaN</td>\n",
              "      <td>NaN</td>\n",
              "      <td>yes</td>\n",
              "      <td>yes</td>\n",
              "      <td>no</td>\n",
              "      <td>NaN</td>\n",
              "    </tr>\n",
              "    <tr>\n",
              "      <th>4</th>\n",
              "      <td>68090</td>\n",
              "      <td>Aayush</td>\n",
              "      <td>aayush@xyz.com</td>\n",
              "      <td>NaN</td>\n",
              "      <td>NaN</td>\n",
              "      <td>03/26/2022 07:02:48 pm</td>\n",
              "      <td>NaN</td>\n",
              "      <td>B.k Birla college</td>\n",
              "      <td>NaN</td>\n",
              "      <td>NaN</td>\n",
              "      <td>NaN</td>\n",
              "      <td>NaN</td>\n",
              "      <td>NaN</td>\n",
              "      <td>NaN</td>\n",
              "      <td>yes</td>\n",
              "      <td>yes</td>\n",
              "      <td>no</td>\n",
              "      <td>NaN</td>\n",
              "    </tr>\n",
              "  </tbody>\n",
              "</table>\n",
              "</div>\n",
              "    <div class=\"colab-df-buttons\">\n",
              "\n",
              "  <div class=\"colab-df-container\">\n",
              "    <button class=\"colab-df-convert\" onclick=\"convertToInteractive('df-1433c7a8-a0f7-49a4-a4af-6a2f88c352ae')\"\n",
              "            title=\"Convert this dataframe to an interactive table.\"\n",
              "            style=\"display:none;\">\n",
              "\n",
              "  <svg xmlns=\"http://www.w3.org/2000/svg\" height=\"24px\" viewBox=\"0 -960 960 960\">\n",
              "    <path d=\"M120-120v-720h720v720H120Zm60-500h600v-160H180v160Zm220 220h160v-160H400v160Zm0 220h160v-160H400v160ZM180-400h160v-160H180v160Zm440 0h160v-160H620v160ZM180-180h160v-160H180v160Zm440 0h160v-160H620v160Z\"/>\n",
              "  </svg>\n",
              "    </button>\n",
              "\n",
              "  <style>\n",
              "    .colab-df-container {\n",
              "      display:flex;\n",
              "      gap: 12px;\n",
              "    }\n",
              "\n",
              "    .colab-df-convert {\n",
              "      background-color: #E8F0FE;\n",
              "      border: none;\n",
              "      border-radius: 50%;\n",
              "      cursor: pointer;\n",
              "      display: none;\n",
              "      fill: #1967D2;\n",
              "      height: 32px;\n",
              "      padding: 0 0 0 0;\n",
              "      width: 32px;\n",
              "    }\n",
              "\n",
              "    .colab-df-convert:hover {\n",
              "      background-color: #E2EBFA;\n",
              "      box-shadow: 0px 1px 2px rgba(60, 64, 67, 0.3), 0px 1px 3px 1px rgba(60, 64, 67, 0.15);\n",
              "      fill: #174EA6;\n",
              "    }\n",
              "\n",
              "    .colab-df-buttons div {\n",
              "      margin-bottom: 4px;\n",
              "    }\n",
              "\n",
              "    [theme=dark] .colab-df-convert {\n",
              "      background-color: #3B4455;\n",
              "      fill: #D2E3FC;\n",
              "    }\n",
              "\n",
              "    [theme=dark] .colab-df-convert:hover {\n",
              "      background-color: #434B5C;\n",
              "      box-shadow: 0px 1px 3px 1px rgba(0, 0, 0, 0.15);\n",
              "      filter: drop-shadow(0px 1px 2px rgba(0, 0, 0, 0.3));\n",
              "      fill: #FFFFFF;\n",
              "    }\n",
              "  </style>\n",
              "\n",
              "    <script>\n",
              "      const buttonEl =\n",
              "        document.querySelector('#df-1433c7a8-a0f7-49a4-a4af-6a2f88c352ae button.colab-df-convert');\n",
              "      buttonEl.style.display =\n",
              "        google.colab.kernel.accessAllowed ? 'block' : 'none';\n",
              "\n",
              "      async function convertToInteractive(key) {\n",
              "        const element = document.querySelector('#df-1433c7a8-a0f7-49a4-a4af-6a2f88c352ae');\n",
              "        const dataTable =\n",
              "          await google.colab.kernel.invokeFunction('convertToInteractive',\n",
              "                                                    [key], {});\n",
              "        if (!dataTable) return;\n",
              "\n",
              "        const docLinkHtml = 'Like what you see? Visit the ' +\n",
              "          '<a target=\"_blank\" href=https://colab.research.google.com/notebooks/data_table.ipynb>data table notebook</a>'\n",
              "          + ' to learn more about interactive tables.';\n",
              "        element.innerHTML = '';\n",
              "        dataTable['output_type'] = 'display_data';\n",
              "        await google.colab.output.renderOutput(dataTable, element);\n",
              "        const docLink = document.createElement('div');\n",
              "        docLink.innerHTML = docLinkHtml;\n",
              "        element.appendChild(docLink);\n",
              "      }\n",
              "    </script>\n",
              "  </div>\n",
              "\n",
              "\n",
              "<div id=\"df-1158fd55-37ce-407e-b9fa-e251bb99dec3\">\n",
              "  <button class=\"colab-df-quickchart\" onclick=\"quickchart('df-1158fd55-37ce-407e-b9fa-e251bb99dec3')\"\n",
              "            title=\"Suggest charts.\"\n",
              "            style=\"display:none;\">\n",
              "\n",
              "<svg xmlns=\"http://www.w3.org/2000/svg\" height=\"24px\"viewBox=\"0 0 24 24\"\n",
              "     width=\"24px\">\n",
              "    <g>\n",
              "        <path d=\"M19 3H5c-1.1 0-2 .9-2 2v14c0 1.1.9 2 2 2h14c1.1 0 2-.9 2-2V5c0-1.1-.9-2-2-2zM9 17H7v-7h2v7zm4 0h-2V7h2v10zm4 0h-2v-4h2v4z\"/>\n",
              "    </g>\n",
              "</svg>\n",
              "  </button>\n",
              "\n",
              "<style>\n",
              "  .colab-df-quickchart {\n",
              "      --bg-color: #E8F0FE;\n",
              "      --fill-color: #1967D2;\n",
              "      --hover-bg-color: #E2EBFA;\n",
              "      --hover-fill-color: #174EA6;\n",
              "      --disabled-fill-color: #AAA;\n",
              "      --disabled-bg-color: #DDD;\n",
              "  }\n",
              "\n",
              "  [theme=dark] .colab-df-quickchart {\n",
              "      --bg-color: #3B4455;\n",
              "      --fill-color: #D2E3FC;\n",
              "      --hover-bg-color: #434B5C;\n",
              "      --hover-fill-color: #FFFFFF;\n",
              "      --disabled-bg-color: #3B4455;\n",
              "      --disabled-fill-color: #666;\n",
              "  }\n",
              "\n",
              "  .colab-df-quickchart {\n",
              "    background-color: var(--bg-color);\n",
              "    border: none;\n",
              "    border-radius: 50%;\n",
              "    cursor: pointer;\n",
              "    display: none;\n",
              "    fill: var(--fill-color);\n",
              "    height: 32px;\n",
              "    padding: 0;\n",
              "    width: 32px;\n",
              "  }\n",
              "\n",
              "  .colab-df-quickchart:hover {\n",
              "    background-color: var(--hover-bg-color);\n",
              "    box-shadow: 0 1px 2px rgba(60, 64, 67, 0.3), 0 1px 3px 1px rgba(60, 64, 67, 0.15);\n",
              "    fill: var(--button-hover-fill-color);\n",
              "  }\n",
              "\n",
              "  .colab-df-quickchart-complete:disabled,\n",
              "  .colab-df-quickchart-complete:disabled:hover {\n",
              "    background-color: var(--disabled-bg-color);\n",
              "    fill: var(--disabled-fill-color);\n",
              "    box-shadow: none;\n",
              "  }\n",
              "\n",
              "  .colab-df-spinner {\n",
              "    border: 2px solid var(--fill-color);\n",
              "    border-color: transparent;\n",
              "    border-bottom-color: var(--fill-color);\n",
              "    animation:\n",
              "      spin 1s steps(1) infinite;\n",
              "  }\n",
              "\n",
              "  @keyframes spin {\n",
              "    0% {\n",
              "      border-color: transparent;\n",
              "      border-bottom-color: var(--fill-color);\n",
              "      border-left-color: var(--fill-color);\n",
              "    }\n",
              "    20% {\n",
              "      border-color: transparent;\n",
              "      border-left-color: var(--fill-color);\n",
              "      border-top-color: var(--fill-color);\n",
              "    }\n",
              "    30% {\n",
              "      border-color: transparent;\n",
              "      border-left-color: var(--fill-color);\n",
              "      border-top-color: var(--fill-color);\n",
              "      border-right-color: var(--fill-color);\n",
              "    }\n",
              "    40% {\n",
              "      border-color: transparent;\n",
              "      border-right-color: var(--fill-color);\n",
              "      border-top-color: var(--fill-color);\n",
              "    }\n",
              "    60% {\n",
              "      border-color: transparent;\n",
              "      border-right-color: var(--fill-color);\n",
              "    }\n",
              "    80% {\n",
              "      border-color: transparent;\n",
              "      border-right-color: var(--fill-color);\n",
              "      border-bottom-color: var(--fill-color);\n",
              "    }\n",
              "    90% {\n",
              "      border-color: transparent;\n",
              "      border-bottom-color: var(--fill-color);\n",
              "    }\n",
              "  }\n",
              "</style>\n",
              "\n",
              "  <script>\n",
              "    async function quickchart(key) {\n",
              "      const quickchartButtonEl =\n",
              "        document.querySelector('#' + key + ' button');\n",
              "      quickchartButtonEl.disabled = true;  // To prevent multiple clicks.\n",
              "      quickchartButtonEl.classList.add('colab-df-spinner');\n",
              "      try {\n",
              "        const charts = await google.colab.kernel.invokeFunction(\n",
              "            'suggestCharts', [key], {});\n",
              "      } catch (error) {\n",
              "        console.error('Error during call to suggestCharts:', error);\n",
              "      }\n",
              "      quickchartButtonEl.classList.remove('colab-df-spinner');\n",
              "      quickchartButtonEl.classList.add('colab-df-quickchart-complete');\n",
              "    }\n",
              "    (() => {\n",
              "      let quickchartButtonEl =\n",
              "        document.querySelector('#df-1158fd55-37ce-407e-b9fa-e251bb99dec3 button');\n",
              "      quickchartButtonEl.style.display =\n",
              "        google.colab.kernel.accessAllowed ? 'block' : 'none';\n",
              "    })();\n",
              "  </script>\n",
              "</div>\n",
              "    </div>\n",
              "  </div>\n"
            ]
          },
          "metadata": {},
          "execution_count": 4
        }
      ]
    },
    {
      "cell_type": "code",
      "source": [
        "data.isna().sum()"
      ],
      "metadata": {
        "colab": {
          "base_uri": "https://localhost:8080/"
        },
        "id": "eWuwkj2f6aHU",
        "outputId": "22e2d7a2-7f6b-469d-f138-9bde0e48ce7b"
      },
      "execution_count": null,
      "outputs": [
        {
          "output_type": "execute_result",
          "data": {
            "text/plain": [
              "ID                                                           0\n",
              "First Name                                                   0\n",
              "Email                                                        0\n",
              "Gender                                                    5103\n",
              "City                                                      5248\n",
              "Created                                                      0\n",
              "Position                                                  5297\n",
              "New College Name                                          3485\n",
              "Colleges                                                  3622\n",
              "Academic Year                                             2785\n",
              "Branch/ Specialisation                                    2783\n",
              "Other Branch                                              4659\n",
              "What is your current academic year?                       5172\n",
              "Company Name/ College Name                                5065\n",
              "Would you like to know more about us and our programs?       0\n",
              "Are you interested in knowing more about our events?         0\n",
              "Have you recommended Cloud Counselage to anyone?             0\n",
              "How did you come to know about this event?                5148\n",
              "dtype: int64"
            ]
          },
          "metadata": {},
          "execution_count": 5
        }
      ]
    },
    {
      "cell_type": "code",
      "source": [
        "Processed_Data = data.drop(data.columns[[2,3,4,12,13,14,15,16,17]],axis=1)"
      ],
      "metadata": {
        "id": "2SuVSXXu_fUk"
      },
      "execution_count": null,
      "outputs": []
    },
    {
      "cell_type": "code",
      "source": [
        "Processed_Data = Processed_Data.dropna(subset=['Academic Year'])"
      ],
      "metadata": {
        "id": "onjoi5TPDTSu"
      },
      "execution_count": null,
      "outputs": []
    },
    {
      "cell_type": "code",
      "source": [
        "Processed_Data['Created'] = pd.to_datetime(Processed_Data['Created'])"
      ],
      "metadata": {
        "id": "bOE6yFuxbCsa"
      },
      "execution_count": null,
      "outputs": []
    },
    {
      "cell_type": "code",
      "source": [
        "Processed_Data.dtypes"
      ],
      "metadata": {
        "colab": {
          "base_uri": "https://localhost:8080/"
        },
        "id": "9htdQ6tYbTQg",
        "outputId": "df74979f-d158-45f6-b21b-fc6f193f1304"
      },
      "execution_count": null,
      "outputs": [
        {
          "output_type": "execute_result",
          "data": {
            "text/plain": [
              "ID                                 int64\n",
              "First Name                        object\n",
              "Created                   datetime64[ns]\n",
              "Position                          object\n",
              "New College Name                  object\n",
              "Colleges                          object\n",
              "Academic Year                    float64\n",
              "Branch/ Specialisation            object\n",
              "Other Branch                      object\n",
              "dtype: object"
            ]
          },
          "metadata": {},
          "execution_count": 9
        }
      ]
    },
    {
      "cell_type": "code",
      "source": [
        "Processed_Data['Created_Year'] = Processed_Data['Created'].dt.year"
      ],
      "metadata": {
        "id": "UpLPdgMfbYC5"
      },
      "execution_count": null,
      "outputs": []
    },
    {
      "cell_type": "code",
      "source": [
        "Processed_Data['Created_Year'] = Processed_Data['Created_Year'].astype(int)"
      ],
      "metadata": {
        "id": "unpgMxi5Gb6d"
      },
      "execution_count": null,
      "outputs": []
    },
    {
      "cell_type": "code",
      "source": [
        "def Calculate_year(current_year,academic_year):\n",
        "  if academic_year == 1:\n",
        "    result = current_year + 3\n",
        "    return result\n",
        "  elif academic_year == 2:\n",
        "    result = current_year + 2\n",
        "    return result\n",
        "  elif academic_year == 3:\n",
        "    result = current_year +1\n",
        "    return result\n",
        "  elif academic_year == 4:\n",
        "    result = current_year +1\n",
        "    return result\n",
        "  else:\n",
        "    return 0"
      ],
      "metadata": {
        "id": "jGtKuZJ5kxg-"
      },
      "execution_count": null,
      "outputs": []
    },
    {
      "cell_type": "code",
      "source": [
        "Processed_Data['Graduation_Year'] = Processed_Data[['Created_Year', 'Academic Year']].apply(lambda row: Calculate_year(row['Created_Year'], row['Academic Year']), axis=1)"
      ],
      "metadata": {
        "id": "5Kd4qrmsezEj"
      },
      "execution_count": null,
      "outputs": []
    },
    {
      "cell_type": "code",
      "source": [
        "Processed_Data['Graduation_Year'] = pd.to_datetime(Processed_Data['Graduation_Year'], format='%Y').dt.year"
      ],
      "metadata": {
        "id": "UQDcdcjLgfwp"
      },
      "execution_count": null,
      "outputs": []
    },
    {
      "cell_type": "code",
      "source": [
        "Processed_Data.to_excel('/content/Graduation_Output.xlsx',index=False)"
      ],
      "metadata": {
        "id": "41WMghqHhJ_w"
      },
      "execution_count": null,
      "outputs": []
    }
  ]
}